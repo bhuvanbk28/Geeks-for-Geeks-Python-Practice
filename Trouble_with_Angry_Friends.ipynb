{
  "nbformat": 4,
  "nbformat_minor": 0,
  "metadata": {
    "colab": {
      "provenance": []
    },
    "kernelspec": {
      "name": "python3",
      "display_name": "Python 3"
    },
    "language_info": {
      "name": "python"
    }
  },
  "cells": [
    {
      "cell_type": "code",
      "execution_count": 1,
      "metadata": {
        "colab": {
          "base_uri": "https://localhost:8080/"
        },
        "id": "-xHnADH5mWLN",
        "outputId": "7441493d-2f2b-42a4-d483-e65204270169"
      },
      "outputs": [
        {
          "output_type": "stream",
          "name": "stdout",
          "text": [
            "Enter if He is Angry: True\n",
            "Enter if He is Angry: True\n",
            "You are in trouble\n"
          ]
        }
      ],
      "source": [
        "j_angry=input(\"Enter if He is Angry: \")\n",
        "s_angry=input(\"Enter if He is Angry: \")\n",
        "if j_angry==\"True\" and s_angry==\"True\":\n",
        "    print(\"You are in trouble\")\n",
        "else:\n",
        "    print(\"no one of them is angry.\")"
      ]
    }
  ]
}