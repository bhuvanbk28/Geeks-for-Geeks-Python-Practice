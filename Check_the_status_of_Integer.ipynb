{
  "nbformat": 4,
  "nbformat_minor": 0,
  "metadata": {
    "colab": {
      "provenance": []
    },
    "kernelspec": {
      "name": "python3",
      "display_name": "Python 3"
    },
    "language_info": {
      "name": "python"
    }
  },
  "cells": [
    {
      "cell_type": "code",
      "execution_count": 1,
      "metadata": {
        "colab": {
          "base_uri": "https://localhost:8080/"
        },
        "id": "PNLDWT9-jLf5",
        "outputId": "3888e6f1-6dd8-492d-fd83-a0983a740a24"
      },
      "outputs": [
        {
          "output_type": "stream",
          "name": "stdout",
          "text": [
            "enter the number:1\n",
            "enter the number:-1\n",
            "False\n"
          ]
        }
      ],
      "source": [
        "a=int(input(\"enter the number:\"))\n",
        "b=int(input(\"enter the number:\"))\n",
        "if a>0 and b>0:\n",
        "        print(\"True\")\n",
        "elif a<0 and b<0:\n",
        "        print(\"True\")\n",
        "else:\n",
        "        print(\"False\")"
      ]
    }
  ]
}