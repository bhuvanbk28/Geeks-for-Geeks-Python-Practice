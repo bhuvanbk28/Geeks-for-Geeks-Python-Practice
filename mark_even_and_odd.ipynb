{
  "nbformat": 4,
  "nbformat_minor": 0,
  "metadata": {
    "colab": {
      "provenance": []
    },
    "kernelspec": {
      "name": "python3",
      "display_name": "Python 3"
    },
    "language_info": {
      "name": "python"
    }
  },
  "cells": [
    {
      "cell_type": "code",
      "execution_count": 2,
      "metadata": {
        "colab": {
          "base_uri": "https://localhost:8080/"
        },
        "id": "L6WA9dMNk0ac",
        "outputId": "4fb37736-b87d-4f36-895e-403ac7535540"
      },
      "outputs": [
        {
          "output_type": "stream",
          "name": "stdout",
          "text": [
            "Enter a number: 4\n",
            "Even\n"
          ]
        }
      ],
      "source": [
        "x=int(input(\"Enter a number: \"))\n",
        "if x % 2 == 0:\n",
        "        print(\"Even\")\n",
        "else:\n",
        "        print(\"Odd\")"
      ]
    }
  ]
}